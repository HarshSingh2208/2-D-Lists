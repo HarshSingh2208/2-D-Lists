{
 "cells": [
  {
   "cell_type": "markdown",
   "id": "b03dead0",
   "metadata": {},
   "source": [
    "Row Wise Sum"
   ]
  },
  {
   "cell_type": "code",
   "execution_count": 1,
   "id": "a8ae45b4",
   "metadata": {},
   "outputs": [
    {
     "name": "stdout",
     "output_type": "stream",
     "text": [
      "10\n",
      "26\n",
      "42\n"
     ]
    }
   ],
   "source": [
    "def RowWiseSum(mat,n,m):\n",
    "    \n",
    "    for i in range(n):\n",
    "        sum=0\n",
    "        for j in range(m):\n",
    "            sum=sum+mat[i][j]\n",
    "        print(sum)\n",
    "li=[[1,2,3,4],[5,6,7,8],[9,10,11,12]]\n",
    "RowWiseSum(li,3,4)\n"
   ]
  },
  {
   "cell_type": "markdown",
   "id": "9a298ef3",
   "metadata": {},
   "source": [
    "Max Column Sum"
   ]
  },
  {
   "cell_type": "code",
   "execution_count": 4,
   "id": "1d7477f8",
   "metadata": {},
   "outputs": [
    {
     "name": "stdout",
     "output_type": "stream",
     "text": [
      "24\n"
     ]
    }
   ],
   "source": [
    "def MaxColumnSum(mat,n,m):\n",
    "    max_sum=0\n",
    "    for j in range(m):\n",
    "        sum=0\n",
    "        for i in range(n):\n",
    "            sum=sum+mat[i][j]\n",
    "        if sum>max_sum:\n",
    "            max_sum=sum\n",
    "    print(max_sum)\n",
    "li=[[1,2,3,4],[5,6,7,8],[9,10,11,12]]\n",
    "MaxColumnSum(li,3,4)"
   ]
  },
  {
   "cell_type": "markdown",
   "id": "d9ce92c9",
   "metadata": {},
   "source": [
    "Largest Column or Sum"
   ]
  },
  {
   "cell_type": "code",
   "execution_count": 12,
   "id": "2fcc6eb9",
   "metadata": {},
   "outputs": [
    {
     "name": "stdout",
     "output_type": "stream",
     "text": [
      "column 3 84\n"
     ]
    }
   ],
   "source": [
    "def MaxColumnSum(mat,n,m):\n",
    "    \n",
    "    max_sum_row=0\n",
    "    for i in range(n):\n",
    "        sum=0\n",
    "        for j in range(m):\n",
    "            sum=sum+mat[i][j]\n",
    "        if sum>max_sum_row:\n",
    "            max_sum_row=sum\n",
    "            row=i\n",
    "            \n",
    "    max_sum_col=0\n",
    "    for j in range(m):\n",
    "        sum=0\n",
    "        for i in range(n):\n",
    "            sum=sum+mat[i][j]\n",
    "        if sum>max_sum_col:\n",
    "            max_sum_col=sum\n",
    "            column=j\n",
    "            \n",
    "    if max_sum_col>max_sum_row:\n",
    "        print('column',j,max_sum_col)\n",
    "    else:\n",
    "        print('row',i,max_sum_row)\n",
    "        \n",
    "li=[[1,2,3,20],[5,6,7,28],[9,10,11,12],[1,2,3,24]]\n",
    "MaxColumnSum(li,4,4)"
   ]
  },
  {
   "cell_type": "markdown",
   "id": "9a0e4574",
   "metadata": {},
   "source": [
    "Wave Print"
   ]
  },
  {
   "cell_type": "code",
   "execution_count": 18,
   "id": "11974d4b",
   "metadata": {},
   "outputs": [
    {
     "name": "stdout",
     "output_type": "stream",
     "text": [
      "1 5 9 10 6 2 3 7 11 12 8 4 "
     ]
    }
   ],
   "source": [
    "def WavePrint(li,n,m):\n",
    "    for j in range(m):\n",
    "        if(j%2==0):\n",
    "            for i in range(n):\n",
    "                print(li[i][j],end=\" \")\n",
    "        else:\n",
    "            for i in range(n-1,-1,-1):\n",
    "                print(li[i][j],end=\" \")\n",
    "li=[[1,2,3,4],[5,6,7,8],[9,10,11,12]]\n",
    "WavePrint(li,3,4)"
   ]
  },
  {
   "cell_type": "markdown",
   "id": "62dbcc57",
   "metadata": {},
   "source": [
    "Spiral Print"
   ]
  },
  {
   "cell_type": "code",
   "execution_count": 1,
   "id": "15686038",
   "metadata": {},
   "outputs": [
    {
     "name": "stdout",
     "output_type": "stream",
     "text": [
      "1 2 3 4 \n",
      "5 6 7 8 \n",
      "9 10 11 12 \n",
      "13 14 15 16 \n",
      "Output\n",
      "1 2 3 4 8 12 16 15 14 13 9 5 6 7 11 10 "
     ]
    }
   ],
   "source": [
    "def SpiralPrint(li,n,m):\n",
    "    direction=0\n",
    "    count=n*m\n",
    "    top=0\n",
    "    left=0\n",
    "    bottom=n-1\n",
    "    right=m-1\n",
    "    y=0\n",
    "    while count>0:\n",
    "        if direction==0:\n",
    "            while y<=right:\n",
    "                print(li[top][y],end=\" \")\n",
    "                y=y+1\n",
    "                count=count-1\n",
    "            top=top+1\n",
    "            direction=direction+1\n",
    "        y=top\n",
    "        \n",
    "        if direction==1:\n",
    "            while y<=bottom:\n",
    "                print(li[y][right],end=\" \")\n",
    "                y=y+1\n",
    "                count=count-1\n",
    "            right=right-1\n",
    "            direction=direction+1\n",
    "        y=right\n",
    "        \n",
    "        if direction==2:\n",
    "            while y>=left:\n",
    "                print(li[bottom][y],end=\" \")\n",
    "                y=y-1\n",
    "                count=count-1\n",
    "            bottom=bottom-1\n",
    "            direction=direction+1\n",
    "        y=bottom\n",
    "        \n",
    "        if direction==3:\n",
    "            while y>=top:\n",
    "                print(li[y][left],end=\" \")\n",
    "                y=y-1\n",
    "                count=count-1\n",
    "            left=left+1\n",
    "            direction=direction+1\n",
    "        y=left\n",
    "        direction=0\n",
    "        \n",
    "li=[[1,2,3,4],[5,6,7,8],[9,10,11,12],[13,14,15,16]]\n",
    "for i in range(4):\n",
    "    for j in range(4):\n",
    "        print(li[i][j],end=\" \")\n",
    "    print()\n",
    "print('Output')\n",
    "SpiralPrint(li,4,4)"
   ]
  },
  {
   "cell_type": "code",
   "execution_count": null,
   "id": "3a4cae06",
   "metadata": {},
   "outputs": [],
   "source": []
  }
 ],
 "metadata": {
  "kernelspec": {
   "display_name": "Python 3",
   "language": "python",
   "name": "python3"
  },
  "language_info": {
   "codemirror_mode": {
    "name": "ipython",
    "version": 3
   },
   "file_extension": ".py",
   "mimetype": "text/x-python",
   "name": "python",
   "nbconvert_exporter": "python",
   "pygments_lexer": "ipython3",
   "version": "3.7.7"
  }
 },
 "nbformat": 4,
 "nbformat_minor": 5
}
